{
 "cells": [
  {
   "cell_type": "code",
   "execution_count": 1,
   "id": "a28d7f0b",
   "metadata": {},
   "outputs": [],
   "source": [
    "import pandas as pd\n",
    "\n",
    "df = pd.read_csv(\"portfolio_articles_2.csv\", sep=\"|\", dtype='str')"
   ]
  },
  {
   "cell_type": "code",
   "execution_count": 14,
   "id": "23ab85ad",
   "metadata": {},
   "outputs": [
    {
     "data": {
      "text/html": [
       "<div>\n",
       "<style scoped>\n",
       "    .dataframe tbody tr th:only-of-type {\n",
       "        vertical-align: middle;\n",
       "    }\n",
       "\n",
       "    .dataframe tbody tr th {\n",
       "        vertical-align: top;\n",
       "    }\n",
       "\n",
       "    .dataframe thead th {\n",
       "        text-align: right;\n",
       "    }\n",
       "</style>\n",
       "<table border=\"1\" class=\"dataframe\">\n",
       "  <thead>\n",
       "    <tr style=\"text-align: right;\">\n",
       "      <th></th>\n",
       "      <th>url</th>\n",
       "      <th>title</th>\n",
       "      <th>content</th>\n",
       "      <th>date</th>\n",
       "      <th>full_text</th>\n",
       "    </tr>\n",
       "  </thead>\n",
       "  <tbody>\n",
       "    <tr>\n",
       "      <th>0</th>\n",
       "      <td>https://www.portfolio.hu/gazdasag/20220729/bom...</td>\n",
       "      <td>Bombameglepetés: bivalyerős a spanyol gazdaság...</td>\n",
       "      <td>Közzétették a második negyedéves spanyol GDP-a...</td>\n",
       "      <td>2022/07/29</td>\n",
       "      <td>Bombameglepetés: bivalyerős a spanyol gazdaság...</td>\n",
       "    </tr>\n",
       "    <tr>\n",
       "      <th>1</th>\n",
       "      <td>https://www.portfolio.hu/gazdasag/20220729/jol...</td>\n",
       "      <td>Jól teljesített a francia gazdaság a második n...</td>\n",
       "      <td>A várt felett nőtt a francia gazdaság a másodi...</td>\n",
       "      <td>2022/07/29</td>\n",
       "      <td>Jól teljesített a francia gazdaság a második n...</td>\n",
       "    </tr>\n",
       "    <tr>\n",
       "      <th>2</th>\n",
       "      <td>https://www.portfolio.hu/gazdasag/20220729/orb...</td>\n",
       "      <td>Orbán Viktor: Ukrajnát nem lehet megvédeni, há...</td>\n",
       "      <td>Megbukott a nyugati világ háborús stratégiája ...</td>\n",
       "      <td>2022/07/29</td>\n",
       "      <td>Orbán Viktor: Ukrajnát nem lehet megvédeni, há...</td>\n",
       "    </tr>\n",
       "    <tr>\n",
       "      <th>3</th>\n",
       "      <td>https://www.portfolio.hu/gazdasag/20220729/fat...</td>\n",
       "      <td>Fatüzelésűre állítaná az iskolákat a magyar állam</td>\n",
       "      <td>\"Haladéktalanul fel kell mérni az intézményekb...</td>\n",
       "      <td>2022/07/29</td>\n",
       "      <td>Fatüzelésűre állítaná az iskolákat a magyar ál...</td>\n",
       "    </tr>\n",
       "    <tr>\n",
       "      <th>4</th>\n",
       "      <td>https://www.portfolio.hu/gazdasag/20220728/mar...</td>\n",
       "      <td>Már Líbiában lehet a lopott ukrán árpa és búza</td>\n",
       "      <td>Oroszország által kifosztott ukrán készletekbő...</td>\n",
       "      <td>2022/07/28</td>\n",
       "      <td>Már Líbiában lehet a lopott ukrán árpa és búza...</td>\n",
       "    </tr>\n",
       "    <tr>\n",
       "      <th>...</th>\n",
       "      <td>...</td>\n",
       "      <td>...</td>\n",
       "      <td>...</td>\n",
       "      <td>...</td>\n",
       "      <td>...</td>\n",
       "    </tr>\n",
       "    <tr>\n",
       "      <th>20602</th>\n",
       "      <td>https://www.portfolio.hu/gazdasag/20200616/uja...</td>\n",
       "      <td>Újabb német autóipari multi halasztja el magya...</td>\n",
       "      <td>Az autóipari kilátások bizonytalansága miatt 1...</td>\n",
       "      <td>2020/06/16</td>\n",
       "      <td>Újabb német autóipari multi halasztja el magya...</td>\n",
       "    </tr>\n",
       "    <tr>\n",
       "      <th>20603</th>\n",
       "      <td>https://www.portfolio.hu/gazdasag/20200616/ami...</td>\n",
       "      <td>Amilyen gyors volt a beszakadás, olyan hirtele...</td>\n",
       "      <td>Az áprilisi 14,7 százalékos zuhanást követően ...</td>\n",
       "      <td>2020/06/16</td>\n",
       "      <td>Amilyen gyors volt a beszakadás, olyan hirtele...</td>\n",
       "    </tr>\n",
       "    <tr>\n",
       "      <th>20604</th>\n",
       "      <td>https://www.portfolio.hu/gazdasag/20200616/kor...</td>\n",
       "      <td>Koronavírus: felfüggesztették Norvégiában a ko...</td>\n",
       "      <td>Adatvédelmi problémák miatt felfüggesztik a ko...</td>\n",
       "      <td>2020/06/16</td>\n",
       "      <td>Koronavírus: felfüggesztették Norvégiában a ko...</td>\n",
       "    </tr>\n",
       "    <tr>\n",
       "      <th>20605</th>\n",
       "      <td>https://www.portfolio.hu/gazdasag/20200616/kes...</td>\n",
       "      <td>Készültségben a dél-koreai hadsereg az észak-k...</td>\n",
       "      <td>Fokozott készültségbe helyezték a dél-koreai h...</td>\n",
       "      <td>2020/06/16</td>\n",
       "      <td>Készültségben a dél-koreai hadsereg az észak-k...</td>\n",
       "    </tr>\n",
       "    <tr>\n",
       "      <th>20606</th>\n",
       "      <td>https://www.portfolio.hu/gazdasag/20200616/mor...</td>\n",
       "      <td>Morgan Stanley: idén nagyot zuhan a magyar gaz...</td>\n",
       "      <td>Londoni makrogazdasági elemzők várakozása szer...</td>\n",
       "      <td>2020/06/16</td>\n",
       "      <td>Morgan Stanley: idén nagyot zuhan a magyar gaz...</td>\n",
       "    </tr>\n",
       "  </tbody>\n",
       "</table>\n",
       "<p>20607 rows × 5 columns</p>\n",
       "</div>"
      ],
      "text/plain": [
       "                                                     url  \\\n",
       "0      https://www.portfolio.hu/gazdasag/20220729/bom...   \n",
       "1      https://www.portfolio.hu/gazdasag/20220729/jol...   \n",
       "2      https://www.portfolio.hu/gazdasag/20220729/orb...   \n",
       "3      https://www.portfolio.hu/gazdasag/20220729/fat...   \n",
       "4      https://www.portfolio.hu/gazdasag/20220728/mar...   \n",
       "...                                                  ...   \n",
       "20602  https://www.portfolio.hu/gazdasag/20200616/uja...   \n",
       "20603  https://www.portfolio.hu/gazdasag/20200616/ami...   \n",
       "20604  https://www.portfolio.hu/gazdasag/20200616/kor...   \n",
       "20605  https://www.portfolio.hu/gazdasag/20200616/kes...   \n",
       "20606  https://www.portfolio.hu/gazdasag/20200616/mor...   \n",
       "\n",
       "                                                   title  \\\n",
       "0      Bombameglepetés: bivalyerős a spanyol gazdaság...   \n",
       "1      Jól teljesített a francia gazdaság a második n...   \n",
       "2      Orbán Viktor: Ukrajnát nem lehet megvédeni, há...   \n",
       "3      Fatüzelésűre állítaná az iskolákat a magyar állam   \n",
       "4         Már Líbiában lehet a lopott ukrán árpa és búza   \n",
       "...                                                  ...   \n",
       "20602  Újabb német autóipari multi halasztja el magya...   \n",
       "20603  Amilyen gyors volt a beszakadás, olyan hirtele...   \n",
       "20604  Koronavírus: felfüggesztették Norvégiában a ko...   \n",
       "20605  Készültségben a dél-koreai hadsereg az észak-k...   \n",
       "20606  Morgan Stanley: idén nagyot zuhan a magyar gaz...   \n",
       "\n",
       "                                                 content        date  \\\n",
       "0      Közzétették a második negyedéves spanyol GDP-a...  2022/07/29   \n",
       "1      A várt felett nőtt a francia gazdaság a másodi...  2022/07/29   \n",
       "2      Megbukott a nyugati világ háborús stratégiája ...  2022/07/29   \n",
       "3      \"Haladéktalanul fel kell mérni az intézményekb...  2022/07/29   \n",
       "4      Oroszország által kifosztott ukrán készletekbő...  2022/07/28   \n",
       "...                                                  ...         ...   \n",
       "20602  Az autóipari kilátások bizonytalansága miatt 1...  2020/06/16   \n",
       "20603  Az áprilisi 14,7 százalékos zuhanást követően ...  2020/06/16   \n",
       "20604  Adatvédelmi problémák miatt felfüggesztik a ko...  2020/06/16   \n",
       "20605  Fokozott készültségbe helyezték a dél-koreai h...  2020/06/16   \n",
       "20606  Londoni makrogazdasági elemzők várakozása szer...  2020/06/16   \n",
       "\n",
       "                                               full_text  \n",
       "0      Bombameglepetés: bivalyerős a spanyol gazdaság...  \n",
       "1      Jól teljesített a francia gazdaság a második n...  \n",
       "2      Orbán Viktor: Ukrajnát nem lehet megvédeni, há...  \n",
       "3      Fatüzelésűre állítaná az iskolákat a magyar ál...  \n",
       "4      Már Líbiában lehet a lopott ukrán árpa és búza...  \n",
       "...                                                  ...  \n",
       "20602  Újabb német autóipari multi halasztja el magya...  \n",
       "20603  Amilyen gyors volt a beszakadás, olyan hirtele...  \n",
       "20604  Koronavírus: felfüggesztették Norvégiában a ko...  \n",
       "20605  Készültségben a dél-koreai hadsereg az észak-k...  \n",
       "20606  Morgan Stanley: idén nagyot zuhan a magyar gaz...  \n",
       "\n",
       "[20607 rows x 5 columns]"
      ]
     },
     "execution_count": 14,
     "metadata": {},
     "output_type": "execute_result"
    }
   ],
   "source": [
    "df"
   ]
  },
  {
   "cell_type": "code",
   "execution_count": 7,
   "id": "c3d6d91f",
   "metadata": {},
   "outputs": [],
   "source": [
    "df = df[\n",
    "    (df[\"title\"] != \"Title not found\") & \n",
    "    ~df[\"content\"].fillna(\"\").str.contains(\"Content not found\") & \n",
    "    ~df[\"content\"].fillna(\"\").str.strip().eq(\"\") & \n",
    "    ~df[\"content\"].fillna(\"\").str.contains(\"Error fetching content\") & \n",
    "    df[\"error\"].isnull()\n",
    "]"
   ]
  },
  {
   "cell_type": "code",
   "execution_count": 9,
   "id": "f9721b0d",
   "metadata": {},
   "outputs": [],
   "source": [
    "df = df.drop(\"error\", axis=1)\n",
    "df['full_text'] = df['title'] + \". \" + df['content']\n",
    "df = df.reset_index(drop=True)"
   ]
  },
  {
   "cell_type": "code",
   "execution_count": 4,
   "id": "ae89e9ce",
   "metadata": {},
   "outputs": [
    {
     "data": {
      "text/html": [
       "<div>\n",
       "<style scoped>\n",
       "    .dataframe tbody tr th:only-of-type {\n",
       "        vertical-align: middle;\n",
       "    }\n",
       "\n",
       "    .dataframe tbody tr th {\n",
       "        vertical-align: top;\n",
       "    }\n",
       "\n",
       "    .dataframe thead th {\n",
       "        text-align: right;\n",
       "    }\n",
       "</style>\n",
       "<table border=\"1\" class=\"dataframe\">\n",
       "  <thead>\n",
       "    <tr style=\"text-align: right;\">\n",
       "      <th></th>\n",
       "      <th>url</th>\n",
       "      <th>title</th>\n",
       "      <th>content</th>\n",
       "      <th>date</th>\n",
       "      <th>error</th>\n",
       "    </tr>\n",
       "  </thead>\n",
       "  <tbody>\n",
       "    <tr>\n",
       "      <th>2646</th>\n",
       "      <td>https://www.portfolio.hu/gazdasag/20220409/sp-...</td>\n",
       "      <td>NaN</td>\n",
       "      <td>NaN</td>\n",
       "      <td>NaN</td>\n",
       "      <td>HTTPSConnectionPool(host='www.portfolio.hu', p...</td>\n",
       "    </tr>\n",
       "    <tr>\n",
       "      <th>7962</th>\n",
       "      <td>https://www.portfolio.hu/gazdasag/20211003/veg...</td>\n",
       "      <td>NaN</td>\n",
       "      <td>NaN</td>\n",
       "      <td>NaN</td>\n",
       "      <td>HTTPSConnectionPool(host='www.portfolio.hu', p...</td>\n",
       "    </tr>\n",
       "    <tr>\n",
       "      <th>8589</th>\n",
       "      <td>https://www.portfolio.hu/gazdasag/20210909/uj-...</td>\n",
       "      <td>NaN</td>\n",
       "      <td>NaN</td>\n",
       "      <td>NaN</td>\n",
       "      <td>HTTPSConnectionPool(host='www.portfolio.hu', p...</td>\n",
       "    </tr>\n",
       "    <tr>\n",
       "      <th>8747</th>\n",
       "      <td>https://www.portfolio.hu/gazdasag/20210814/oly...</td>\n",
       "      <td>NaN</td>\n",
       "      <td>NaN</td>\n",
       "      <td>NaN</td>\n",
       "      <td>404 Client Error: Not Found for url: https://w...</td>\n",
       "    </tr>\n",
       "    <tr>\n",
       "      <th>9885</th>\n",
       "      <td>https://www.portfolio.hu/cimke/negyedik%20hull...</td>\n",
       "      <td>NaN</td>\n",
       "      <td>NaN</td>\n",
       "      <td>NaN</td>\n",
       "      <td>404 Client Error: Not Found for url: https://w...</td>\n",
       "    </tr>\n",
       "    <tr>\n",
       "      <th>10784</th>\n",
       "      <td>../../../gazdasag/20210614/pleschinger-gyula-a...</td>\n",
       "      <td>NaN</td>\n",
       "      <td>NaN</td>\n",
       "      <td>NaN</td>\n",
       "      <td>Invalid URL '../../../gazdasag/20210614/plesch...</td>\n",
       "    </tr>\n",
       "    <tr>\n",
       "      <th>18265</th>\n",
       "      <td>https://www.portfolio.hu/gazdasag/20200921/az-...</td>\n",
       "      <td>NaN</td>\n",
       "      <td>NaN</td>\n",
       "      <td>NaN</td>\n",
       "      <td>HTTPSConnectionPool(host='www.portfolio.hu', p...</td>\n",
       "    </tr>\n",
       "  </tbody>\n",
       "</table>\n",
       "</div>"
      ],
      "text/plain": [
       "                                                     url title content date  \\\n",
       "2646   https://www.portfolio.hu/gazdasag/20220409/sp-...   NaN     NaN  NaN   \n",
       "7962   https://www.portfolio.hu/gazdasag/20211003/veg...   NaN     NaN  NaN   \n",
       "8589   https://www.portfolio.hu/gazdasag/20210909/uj-...   NaN     NaN  NaN   \n",
       "8747   https://www.portfolio.hu/gazdasag/20210814/oly...   NaN     NaN  NaN   \n",
       "9885   https://www.portfolio.hu/cimke/negyedik%20hull...   NaN     NaN  NaN   \n",
       "10784  ../../../gazdasag/20210614/pleschinger-gyula-a...   NaN     NaN  NaN   \n",
       "18265  https://www.portfolio.hu/gazdasag/20200921/az-...   NaN     NaN  NaN   \n",
       "\n",
       "                                                   error  \n",
       "2646   HTTPSConnectionPool(host='www.portfolio.hu', p...  \n",
       "7962   HTTPSConnectionPool(host='www.portfolio.hu', p...  \n",
       "8589   HTTPSConnectionPool(host='www.portfolio.hu', p...  \n",
       "8747   404 Client Error: Not Found for url: https://w...  \n",
       "9885   404 Client Error: Not Found for url: https://w...  \n",
       "10784  Invalid URL '../../../gazdasag/20210614/plesch...  \n",
       "18265  HTTPSConnectionPool(host='www.portfolio.hu', p...  "
      ]
     },
     "execution_count": 4,
     "metadata": {},
     "output_type": "execute_result"
    }
   ],
   "source": [
    "df[~df[\"error\"].isnull()]"
   ]
  },
  {
   "cell_type": "code",
   "execution_count": 11,
   "id": "38bdc292",
   "metadata": {},
   "outputs": [],
   "source": [
    "df.to_csv(\"portfolio_articles_2.csv\", sep=\"|\", encoding='utf-8', index=False)"
   ]
  },
  {
   "cell_type": "code",
   "execution_count": 16,
   "id": "bd9b06e7",
   "metadata": {},
   "outputs": [
    {
     "name": "stderr",
     "output_type": "stream",
     "text": [
      "C:\\Users\\tothk\\AppData\\Local\\Temp\\ipykernel_14048\\3663119335.py:30: SettingWithCopyWarning: \n",
      "A value is trying to be set on a copy of a slice from a DataFrame.\n",
      "Try using .loc[row_indexer,col_indexer] = value instead\n",
      "\n",
      "See the caveats in the documentation: https://pandas.pydata.org/pandas-docs/stable/user_guide/indexing.html#returning-a-view-versus-a-copy\n",
      "  batch[\"translated_content\"] = results\n"
     ]
    },
    {
     "name": "stdout",
     "output_type": "stream",
     "text": [
      "Batch 266 processed and saved. Total articles translated: 19950\n"
     ]
    },
    {
     "name": "stderr",
     "output_type": "stream",
     "text": [
      "C:\\Users\\tothk\\AppData\\Local\\Temp\\ipykernel_14048\\3663119335.py:30: SettingWithCopyWarning: \n",
      "A value is trying to be set on a copy of a slice from a DataFrame.\n",
      "Try using .loc[row_indexer,col_indexer] = value instead\n",
      "\n",
      "See the caveats in the documentation: https://pandas.pydata.org/pandas-docs/stable/user_guide/indexing.html#returning-a-view-versus-a-copy\n",
      "  batch[\"translated_content\"] = results\n"
     ]
    },
    {
     "name": "stdout",
     "output_type": "stream",
     "text": [
      "Batch 267 processed and saved. Total articles translated: 20025\n"
     ]
    },
    {
     "name": "stderr",
     "output_type": "stream",
     "text": [
      "C:\\Users\\tothk\\AppData\\Local\\Temp\\ipykernel_14048\\3663119335.py:30: SettingWithCopyWarning: \n",
      "A value is trying to be set on a copy of a slice from a DataFrame.\n",
      "Try using .loc[row_indexer,col_indexer] = value instead\n",
      "\n",
      "See the caveats in the documentation: https://pandas.pydata.org/pandas-docs/stable/user_guide/indexing.html#returning-a-view-versus-a-copy\n",
      "  batch[\"translated_content\"] = results\n"
     ]
    },
    {
     "name": "stdout",
     "output_type": "stream",
     "text": [
      "Batch 268 processed and saved. Total articles translated: 20100\n"
     ]
    },
    {
     "name": "stderr",
     "output_type": "stream",
     "text": [
      "C:\\Users\\tothk\\AppData\\Local\\Temp\\ipykernel_14048\\3663119335.py:30: SettingWithCopyWarning: \n",
      "A value is trying to be set on a copy of a slice from a DataFrame.\n",
      "Try using .loc[row_indexer,col_indexer] = value instead\n",
      "\n",
      "See the caveats in the documentation: https://pandas.pydata.org/pandas-docs/stable/user_guide/indexing.html#returning-a-view-versus-a-copy\n",
      "  batch[\"translated_content\"] = results\n"
     ]
    },
    {
     "name": "stdout",
     "output_type": "stream",
     "text": [
      "Batch 269 processed and saved. Total articles translated: 20175\n"
     ]
    },
    {
     "name": "stderr",
     "output_type": "stream",
     "text": [
      "C:\\Users\\tothk\\AppData\\Local\\Temp\\ipykernel_14048\\3663119335.py:30: SettingWithCopyWarning: \n",
      "A value is trying to be set on a copy of a slice from a DataFrame.\n",
      "Try using .loc[row_indexer,col_indexer] = value instead\n",
      "\n",
      "See the caveats in the documentation: https://pandas.pydata.org/pandas-docs/stable/user_guide/indexing.html#returning-a-view-versus-a-copy\n",
      "  batch[\"translated_content\"] = results\n"
     ]
    },
    {
     "name": "stdout",
     "output_type": "stream",
     "text": [
      "Batch 270 processed and saved. Total articles translated: 20250\n"
     ]
    },
    {
     "name": "stderr",
     "output_type": "stream",
     "text": [
      "C:\\Users\\tothk\\AppData\\Local\\Temp\\ipykernel_14048\\3663119335.py:30: SettingWithCopyWarning: \n",
      "A value is trying to be set on a copy of a slice from a DataFrame.\n",
      "Try using .loc[row_indexer,col_indexer] = value instead\n",
      "\n",
      "See the caveats in the documentation: https://pandas.pydata.org/pandas-docs/stable/user_guide/indexing.html#returning-a-view-versus-a-copy\n",
      "  batch[\"translated_content\"] = results\n"
     ]
    },
    {
     "name": "stdout",
     "output_type": "stream",
     "text": [
      "Batch 271 processed and saved. Total articles translated: 20325\n"
     ]
    },
    {
     "name": "stderr",
     "output_type": "stream",
     "text": [
      "C:\\Users\\tothk\\AppData\\Local\\Temp\\ipykernel_14048\\3663119335.py:30: SettingWithCopyWarning: \n",
      "A value is trying to be set on a copy of a slice from a DataFrame.\n",
      "Try using .loc[row_indexer,col_indexer] = value instead\n",
      "\n",
      "See the caveats in the documentation: https://pandas.pydata.org/pandas-docs/stable/user_guide/indexing.html#returning-a-view-versus-a-copy\n",
      "  batch[\"translated_content\"] = results\n"
     ]
    },
    {
     "name": "stdout",
     "output_type": "stream",
     "text": [
      "Batch 272 processed and saved. Total articles translated: 20400\n"
     ]
    },
    {
     "name": "stderr",
     "output_type": "stream",
     "text": [
      "C:\\Users\\tothk\\AppData\\Local\\Temp\\ipykernel_14048\\3663119335.py:30: SettingWithCopyWarning: \n",
      "A value is trying to be set on a copy of a slice from a DataFrame.\n",
      "Try using .loc[row_indexer,col_indexer] = value instead\n",
      "\n",
      "See the caveats in the documentation: https://pandas.pydata.org/pandas-docs/stable/user_guide/indexing.html#returning-a-view-versus-a-copy\n",
      "  batch[\"translated_content\"] = results\n"
     ]
    },
    {
     "name": "stdout",
     "output_type": "stream",
     "text": [
      "Batch 273 processed and saved. Total articles translated: 20475\n"
     ]
    },
    {
     "name": "stderr",
     "output_type": "stream",
     "text": [
      "C:\\Users\\tothk\\AppData\\Local\\Temp\\ipykernel_14048\\3663119335.py:30: SettingWithCopyWarning: \n",
      "A value is trying to be set on a copy of a slice from a DataFrame.\n",
      "Try using .loc[row_indexer,col_indexer] = value instead\n",
      "\n",
      "See the caveats in the documentation: https://pandas.pydata.org/pandas-docs/stable/user_guide/indexing.html#returning-a-view-versus-a-copy\n",
      "  batch[\"translated_content\"] = results\n"
     ]
    },
    {
     "name": "stdout",
     "output_type": "stream",
     "text": [
      "Batch 274 processed and saved. Total articles translated: 20550\n"
     ]
    },
    {
     "name": "stderr",
     "output_type": "stream",
     "text": [
      "C:\\Users\\tothk\\AppData\\Local\\Temp\\ipykernel_14048\\3663119335.py:30: SettingWithCopyWarning: \n",
      "A value is trying to be set on a copy of a slice from a DataFrame.\n",
      "Try using .loc[row_indexer,col_indexer] = value instead\n",
      "\n",
      "See the caveats in the documentation: https://pandas.pydata.org/pandas-docs/stable/user_guide/indexing.html#returning-a-view-versus-a-copy\n",
      "  batch[\"translated_content\"] = results\n"
     ]
    },
    {
     "name": "stdout",
     "output_type": "stream",
     "text": [
      "Batch 275 processed and saved. Total articles translated: 20607\n"
     ]
    }
   ],
   "source": [
    "import pandas as pd\n",
    "import asyncio\n",
    "from concurrent.futures import ThreadPoolExecutor\n",
    "from google import genai\n",
    "from google.genai import types\n",
    "\n",
    "client = genai.Client(api_key=\"\")\n",
    "\n",
    "# Function to translate each text\n",
    "def translate_text(text):\n",
    "    try:\n",
    "        response = client.models.generate_content(\n",
    "            model=\"gemini-2.0-flash\",\n",
    "            config=types.GenerateContentConfig(\n",
    "                system_instruction=\"You are a translator that translates Hungarian text to English.\"\n",
    "            ),\n",
    "            contents=f\"Please translate the following article to English in simple text format: {text}\"\n",
    "        )\n",
    "        return response.text\n",
    "    except Exception as e:\n",
    "        print(f\"Error: {e}\")\n",
    "        return None\n",
    "\n",
    "# Asynchronous wrapper for the translate function\n",
    "async def translate_batch_async(batch):\n",
    "    loop = asyncio.get_event_loop()\n",
    "    with ThreadPoolExecutor() as executor:\n",
    "        tasks = [loop.run_in_executor(executor, translate_text, text) for text in batch[\"full_text\"]]\n",
    "        results = await asyncio.gather(*tasks)\n",
    "    batch[\"translated_content\"] = results\n",
    "    return batch\n",
    "\n",
    "# Main processing loop\n",
    "async def main(df):\n",
    "    try:\n",
    "        df_translated = pd.read_csv(\"portfolio_articles_2_translated.csv\", sep=\"|\", encoding='utf-8')\n",
    "        processed_ids = set(df_translated.index)\n",
    "    except FileNotFoundError:\n",
    "        df_translated = pd.DataFrame(columns=[\"full_text\", \"translated_content\"])\n",
    "        processed_ids = set()\n",
    "\n",
    "    batch_size = 75  # Number of rows to process per batch\n",
    "    start_index = max(processed_ids) + 1 if processed_ids else 0\n",
    "\n",
    "    for i in range(start_index, len(df), batch_size):\n",
    "        batch = df.iloc[i:i + batch_size]\n",
    "        batch = await translate_batch_async(batch)\n",
    "        \n",
    "        # Append to the result DataFrame\n",
    "        df_translated = pd.concat([df_translated, batch], ignore_index=True)\n",
    "        \n",
    "        # Save to CSV after each batch\n",
    "        df_translated.to_csv(\"portfolio_articles_2_translated.csv\", index=False, sep=\"|\", encoding='utf-8')\n",
    "        \n",
    "        print(f\"Batch {i // batch_size + 1} processed and saved. Total articles translated: {len(df_translated)}\")\n",
    "\n",
    "\n",
    "# Run the asynchronous main function\n",
    "await main(df)"
   ]
  },
  {
   "cell_type": "code",
   "execution_count": 17,
   "id": "6d40807e",
   "metadata": {},
   "outputs": [],
   "source": [
    "df_proba = pd.read_csv(\"portfolio_articles_2_translated.csv\", sep=\"|\", dtype='str')"
   ]
  },
  {
   "cell_type": "code",
   "execution_count": 18,
   "id": "470126bd",
   "metadata": {},
   "outputs": [
    {
     "data": {
      "text/plain": [
       "full_text             273\n",
       "translated_content      0\n",
       "url                   273\n",
       "title                 273\n",
       "content               273\n",
       "date                  273\n",
       "dtype: int64"
      ]
     },
     "execution_count": 18,
     "metadata": {},
     "output_type": "execute_result"
    }
   ],
   "source": [
    "df_proba[df_proba[\"translated_content\"].isnull()].count()"
   ]
  },
  {
   "cell_type": "code",
   "execution_count": 21,
   "id": "7c373923",
   "metadata": {},
   "outputs": [
    {
     "name": "stdout",
     "output_type": "stream",
     "text": [
      "Untranslated rows found: 133\n"
     ]
    },
    {
     "name": "stderr",
     "output_type": "stream",
     "text": [
      "C:\\Users\\tothk\\AppData\\Local\\Temp\\ipykernel_14048\\1523488885.py:22: SettingWithCopyWarning: \n",
      "A value is trying to be set on a copy of a slice from a DataFrame.\n",
      "Try using .loc[row_indexer,col_indexer] = value instead\n",
      "\n",
      "See the caveats in the documentation: https://pandas.pydata.org/pandas-docs/stable/user_guide/indexing.html#returning-a-view-versus-a-copy\n",
      "  batch[\"translated_content\"] = results\n"
     ]
    },
    {
     "name": "stdout",
     "output_type": "stream",
     "text": [
      "Retry complete! Remaining untranslated rows: 111\n",
      "Translation process complete!\n"
     ]
    }
   ],
   "source": [
    "# Function to translate each text \n",
    "def translate_text(text):\n",
    "    try:\n",
    "        response = client.models.generate_content(\n",
    "            model=\"gemini-2.0-flash\",\n",
    "            config=types.GenerateContentConfig(\n",
    "                system_instruction=\"You are a translator that translates Hungarian text to English.\"\n",
    "            ),\n",
    "            contents=f\"Please translate the following article to English in simple text format: {text}\"\n",
    "        )\n",
    "        return response.text\n",
    "    except Exception as e:\n",
    "        print(f\"Error: {e}\")\n",
    "        return None\n",
    "\n",
    "# Asynchronous wrapper for the translate function\n",
    "async def translate_batch_async(batch):\n",
    "    loop = asyncio.get_event_loop()\n",
    "    with ThreadPoolExecutor() as executor:\n",
    "        tasks = [loop.run_in_executor(executor, translate_text, text) for text in batch[\"full_text\"]]\n",
    "        results = await asyncio.gather(*tasks)\n",
    "    batch[\"translated_content\"] = results\n",
    "    return batch\n",
    "\n",
    "# Main function to process and retry NaN translations\n",
    "async def main():\n",
    "    try:\n",
    "        df_translated = pd.read_csv(\"portfolio_articles_2_translated.csv\", sep=\"|\", encoding='utf-8')\n",
    "    except FileNotFoundError:\n",
    "        df_translated = pd.DataFrame(columns=[\"full_text\", \"translated_content\"])\n",
    "    \n",
    "    # First pass: Process untranslated rows\n",
    "    untranslated_rows = df_translated[\"translated_content\"].isna().sum()\n",
    "    print(f\"Untranslated rows found: {untranslated_rows}\")\n",
    "\n",
    "    if untranslated_rows > 0:\n",
    "        to_retry = df_translated[df_translated[\"translated_content\"].isna()]\n",
    "        df_translated.loc[to_retry.index, \"translated_content\"] = (await translate_batch_async(to_retry))[\"translated_content\"].values\n",
    "\n",
    "        # Save the corrected translations\n",
    "        df_translated.to_csv(\"portfolio_articles_2_translated.csv\", index=False, sep=\"|\", encoding='utf-8')\n",
    "        print(f\"Retry complete! Remaining untranslated rows: {df_translated['translated_content'].isna().sum()}\")\n",
    "    \n",
    "    print(\"Translation process complete!\")\n",
    "\n",
    "# Run the asynchronous main function\n",
    "await main()\n"
   ]
  },
  {
   "cell_type": "code",
   "execution_count": 22,
   "id": "6a171ed5",
   "metadata": {},
   "outputs": [],
   "source": [
    "df_proba = pd.read_csv(\"portfolio_articles_2_translated.csv\", sep=\"|\", dtype='str')\n",
    "\n",
    "df_proba.dropna(subset=['translated_content'], inplace=True)\n",
    "df_proba.reset_index(drop=True, inplace=True)\n",
    "\n",
    "df_proba.to_csv(\"portfolio_articles_2_translated.csv\", index=False, sep=\"|\", encoding='utf-8')"
   ]
  },
  {
   "cell_type": "code",
   "execution_count": null,
   "id": "771cc0e4",
   "metadata": {},
   "outputs": [],
   "source": []
  }
 ],
 "metadata": {
  "kernelspec": {
   "display_name": "Python 3 (ipykernel)",
   "language": "python",
   "name": "python3"
  },
  "language_info": {
   "codemirror_mode": {
    "name": "ipython",
    "version": 3
   },
   "file_extension": ".py",
   "mimetype": "text/x-python",
   "name": "python",
   "nbconvert_exporter": "python",
   "pygments_lexer": "ipython3",
   "version": "3.9.7"
  }
 },
 "nbformat": 4,
 "nbformat_minor": 5
}
